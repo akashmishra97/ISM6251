{
 "cells": [
  {
   "cell_type": "markdown",
   "metadata": {},
   "source": [
    "# Tutorial 1 - RNN Sequence classifier"
   ]
  },
  {
   "cell_type": "markdown",
   "metadata": {},
   "source": [
    "In this notebook, we will predict the winner of a basketball game based on the scores observed in the first 3 quarters of the game. Each column represents the beginning of a minute during the game. (There are 12 minutes in each quarter. There are  3 quarters in the data, so we have 36 columns as input variables in chronological order.) The values captured in each column represent the score difference observed at that minute (home score minus away score)<br><br>\n",
    "\n",
    "The last column `W` represents whether the home team (1) or the away team (0) won the game. This is the target variable. <br><br>\n",
    "**Our unit of analysis is a single game.**"
   ]
  },
  {
   "cell_type": "code",
   "execution_count": 1,
   "metadata": {},
   "outputs": [],
   "source": [
    "# Common imports\n",
    "import numpy as np\n",
    "import tensorflow as tf\n",
    "from tensorflow import keras\n",
    "import pandas as pd\n",
    "\n",
    "np.random.seed(1)\n",
    "tf.random.set_seed(1)"
   ]
  },
  {
   "cell_type": "markdown",
   "metadata": {},
   "source": [
    "## Get the data"
   ]
  },
  {
   "cell_type": "code",
   "execution_count": 2,
   "metadata": {},
   "outputs": [],
   "source": [
    "data = pd.read_csv(\"./data/basketball.csv\")"
   ]
  },
  {
   "cell_type": "code",
   "execution_count": 3,
   "metadata": {},
   "outputs": [
    {
     "data": {
      "text/plain": [
       "(1230, 37)"
      ]
     },
     "execution_count": 3,
     "metadata": {},
     "output_type": "execute_result"
    }
   ],
   "source": [
    "data.shape"
   ]
  },
  {
   "cell_type": "code",
   "execution_count": 4,
   "metadata": {},
   "outputs": [
    {
     "data": {
      "text/html": [
       "<div>\n",
       "<style scoped>\n",
       "    .dataframe tbody tr th:only-of-type {\n",
       "        vertical-align: middle;\n",
       "    }\n",
       "\n",
       "    .dataframe tbody tr th {\n",
       "        vertical-align: top;\n",
       "    }\n",
       "\n",
       "    .dataframe thead th {\n",
       "        text-align: right;\n",
       "    }\n",
       "</style>\n",
       "<table border=\"1\" class=\"dataframe\">\n",
       "  <thead>\n",
       "    <tr style=\"text-align: right;\">\n",
       "      <th></th>\n",
       "      <th>M1</th>\n",
       "      <th>M2</th>\n",
       "      <th>M3</th>\n",
       "      <th>M4</th>\n",
       "      <th>M5</th>\n",
       "      <th>M6</th>\n",
       "      <th>M7</th>\n",
       "      <th>M8</th>\n",
       "      <th>M9</th>\n",
       "      <th>M10</th>\n",
       "      <th>...</th>\n",
       "      <th>M28</th>\n",
       "      <th>M29</th>\n",
       "      <th>M30</th>\n",
       "      <th>M31</th>\n",
       "      <th>M32</th>\n",
       "      <th>M33</th>\n",
       "      <th>M34</th>\n",
       "      <th>M35</th>\n",
       "      <th>M36</th>\n",
       "      <th>W</th>\n",
       "    </tr>\n",
       "  </thead>\n",
       "  <tbody>\n",
       "    <tr>\n",
       "      <th>0</th>\n",
       "      <td>-2</td>\n",
       "      <td>-1</td>\n",
       "      <td>1</td>\n",
       "      <td>1</td>\n",
       "      <td>-1</td>\n",
       "      <td>-3</td>\n",
       "      <td>-1</td>\n",
       "      <td>0</td>\n",
       "      <td>3</td>\n",
       "      <td>6</td>\n",
       "      <td>...</td>\n",
       "      <td>9</td>\n",
       "      <td>11</td>\n",
       "      <td>10</td>\n",
       "      <td>7</td>\n",
       "      <td>7</td>\n",
       "      <td>4</td>\n",
       "      <td>6</td>\n",
       "      <td>2</td>\n",
       "      <td>1</td>\n",
       "      <td>1</td>\n",
       "    </tr>\n",
       "    <tr>\n",
       "      <th>1</th>\n",
       "      <td>0</td>\n",
       "      <td>2</td>\n",
       "      <td>7</td>\n",
       "      <td>6</td>\n",
       "      <td>10</td>\n",
       "      <td>8</td>\n",
       "      <td>8</td>\n",
       "      <td>6</td>\n",
       "      <td>0</td>\n",
       "      <td>6</td>\n",
       "      <td>...</td>\n",
       "      <td>7</td>\n",
       "      <td>11</td>\n",
       "      <td>11</td>\n",
       "      <td>14</td>\n",
       "      <td>14</td>\n",
       "      <td>15</td>\n",
       "      <td>13</td>\n",
       "      <td>13</td>\n",
       "      <td>13</td>\n",
       "      <td>0</td>\n",
       "    </tr>\n",
       "    <tr>\n",
       "      <th>2</th>\n",
       "      <td>0</td>\n",
       "      <td>-2</td>\n",
       "      <td>2</td>\n",
       "      <td>0</td>\n",
       "      <td>5</td>\n",
       "      <td>4</td>\n",
       "      <td>5</td>\n",
       "      <td>3</td>\n",
       "      <td>5</td>\n",
       "      <td>3</td>\n",
       "      <td>...</td>\n",
       "      <td>9</td>\n",
       "      <td>11</td>\n",
       "      <td>13</td>\n",
       "      <td>13</td>\n",
       "      <td>12</td>\n",
       "      <td>17</td>\n",
       "      <td>15</td>\n",
       "      <td>15</td>\n",
       "      <td>12</td>\n",
       "      <td>1</td>\n",
       "    </tr>\n",
       "    <tr>\n",
       "      <th>3</th>\n",
       "      <td>0</td>\n",
       "      <td>2</td>\n",
       "      <td>0</td>\n",
       "      <td>3</td>\n",
       "      <td>4</td>\n",
       "      <td>3</td>\n",
       "      <td>5</td>\n",
       "      <td>4</td>\n",
       "      <td>3</td>\n",
       "      <td>1</td>\n",
       "      <td>...</td>\n",
       "      <td>10</td>\n",
       "      <td>6</td>\n",
       "      <td>7</td>\n",
       "      <td>7</td>\n",
       "      <td>8</td>\n",
       "      <td>8</td>\n",
       "      <td>8</td>\n",
       "      <td>8</td>\n",
       "      <td>8</td>\n",
       "      <td>1</td>\n",
       "    </tr>\n",
       "    <tr>\n",
       "      <th>4</th>\n",
       "      <td>0</td>\n",
       "      <td>-2</td>\n",
       "      <td>-2</td>\n",
       "      <td>0</td>\n",
       "      <td>3</td>\n",
       "      <td>-2</td>\n",
       "      <td>-7</td>\n",
       "      <td>-5</td>\n",
       "      <td>-7</td>\n",
       "      <td>-4</td>\n",
       "      <td>...</td>\n",
       "      <td>10</td>\n",
       "      <td>10</td>\n",
       "      <td>15</td>\n",
       "      <td>13</td>\n",
       "      <td>11</td>\n",
       "      <td>11</td>\n",
       "      <td>11</td>\n",
       "      <td>13</td>\n",
       "      <td>10</td>\n",
       "      <td>1</td>\n",
       "    </tr>\n",
       "  </tbody>\n",
       "</table>\n",
       "<p>5 rows × 37 columns</p>\n",
       "</div>"
      ],
      "text/plain": [
       "   M1  M2  M3  M4  M5  M6  M7  M8  M9  M10  ...  M28  M29  M30  M31  M32  M33  \\\n",
       "0  -2  -1   1   1  -1  -3  -1   0   3    6  ...    9   11   10    7    7    4   \n",
       "1   0   2   7   6  10   8   8   6   0    6  ...    7   11   11   14   14   15   \n",
       "2   0  -2   2   0   5   4   5   3   5    3  ...    9   11   13   13   12   17   \n",
       "3   0   2   0   3   4   3   5   4   3    1  ...   10    6    7    7    8    8   \n",
       "4   0  -2  -2   0   3  -2  -7  -5  -7   -4  ...   10   10   15   13   11   11   \n",
       "\n",
       "   M34  M35  M36  W  \n",
       "0    6    2    1  1  \n",
       "1   13   13   13  0  \n",
       "2   15   15   12  1  \n",
       "3    8    8    8  1  \n",
       "4   11   13   10  1  \n",
       "\n",
       "[5 rows x 37 columns]"
      ]
     },
     "execution_count": 4,
     "metadata": {},
     "output_type": "execute_result"
    }
   ],
   "source": [
    "data.head()"
   ]
  },
  {
   "cell_type": "code",
   "execution_count": 5,
   "metadata": {},
   "outputs": [],
   "source": [
    "y = data['W']\n",
    "X = data.drop('W', axis=1)"
   ]
  },
  {
   "cell_type": "markdown",
   "metadata": {},
   "source": [
    "## Split the data"
   ]
  },
  {
   "cell_type": "code",
   "execution_count": 6,
   "metadata": {},
   "outputs": [],
   "source": [
    "from sklearn.model_selection import train_test_split\n",
    "\n",
    "X_train, X_test, y_train, y_test = train_test_split(X, y, test_size=0.3)"
   ]
  },
  {
   "cell_type": "markdown",
   "metadata": {},
   "source": [
    "## Data Transformation"
   ]
  },
  {
   "cell_type": "code",
   "execution_count": 7,
   "metadata": {},
   "outputs": [],
   "source": [
    "#Target variables need to be an array with integer type\n",
    "y_train = np.array(y_train)\n",
    "y_test = np.array(y_test)\n",
    "\n",
    "y_train = y_train.astype(np.int32)\n",
    "y_test = y_test.astype(np.int32)"
   ]
  },
  {
   "cell_type": "code",
   "execution_count": 8,
   "metadata": {
    "scrolled": true
   },
   "outputs": [
    {
     "data": {
      "text/plain": [
       "array([0, 1, 1, 1, 1, 1, 0, 0, 0, 0])"
      ]
     },
     "execution_count": 8,
     "metadata": {},
     "output_type": "execute_result"
    }
   ],
   "source": [
    "#Check the first 10 values of the train_y data set\n",
    "y_train[0:10]"
   ]
  },
  {
   "cell_type": "code",
   "execution_count": 9,
   "metadata": {},
   "outputs": [],
   "source": [
    "#Convert input variables to a 2-D array with float data type\n",
    "X_train = np.array(X_train)\n",
    "X_test = np.array(X_test)\n",
    "\n",
    "X_train = X_train.astype(np.float32)\n",
    "X_test = X_test.astype(np.float32)"
   ]
  },
  {
   "cell_type": "code",
   "execution_count": 10,
   "metadata": {},
   "outputs": [
    {
     "data": {
      "text/plain": [
       "array([[ -3.,  -3.,  -2., ...,  -5.,  -3.,  -7.],\n",
       "       [  0.,   1.,  -1., ...,  10.,  12.,  15.],\n",
       "       [ -3.,  -2.,  -2., ...,  14.,  12.,  12.],\n",
       "       ...,\n",
       "       [  2.,   6.,   8., ...,  -2.,   1.,   0.],\n",
       "       [ -2.,   1.,  -1., ..., -19., -21., -14.],\n",
       "       [  2.,   1.,   3., ...,   0.,   2.,   4.]], dtype=float32)"
      ]
     },
     "execution_count": 10,
     "metadata": {},
     "output_type": "execute_result"
    }
   ],
   "source": [
    "X_train"
   ]
  },
  {
   "cell_type": "code",
   "execution_count": 11,
   "metadata": {},
   "outputs": [],
   "source": [
    "#Keras expects a different input format:\n",
    "#Data needs to have 3 dimensions\n",
    "\n",
    "X_train = np.reshape(X_train, (X_train.shape[0], X_train.shape[1], 1))\n",
    "X_test = np.reshape(X_test, (X_test.shape[0], X_test.shape[1], 1))"
   ]
  },
  {
   "cell_type": "code",
   "execution_count": 12,
   "metadata": {},
   "outputs": [
    {
     "data": {
      "text/plain": [
       "((861, 36, 1), (861,))"
      ]
     },
     "execution_count": 12,
     "metadata": {},
     "output_type": "execute_result"
    }
   ],
   "source": [
    "X_train.shape, y_train.shape"
   ]
  },
  {
   "cell_type": "code",
   "execution_count": 13,
   "metadata": {},
   "outputs": [
    {
     "data": {
      "text/plain": [
       "array([[[ -3.],\n",
       "        [ -3.],\n",
       "        [ -2.],\n",
       "        ...,\n",
       "        [ -5.],\n",
       "        [ -3.],\n",
       "        [ -7.]],\n",
       "\n",
       "       [[  0.],\n",
       "        [  1.],\n",
       "        [ -1.],\n",
       "        ...,\n",
       "        [ 10.],\n",
       "        [ 12.],\n",
       "        [ 15.]],\n",
       "\n",
       "       [[ -3.],\n",
       "        [ -2.],\n",
       "        [ -2.],\n",
       "        ...,\n",
       "        [ 14.],\n",
       "        [ 12.],\n",
       "        [ 12.]],\n",
       "\n",
       "       ...,\n",
       "\n",
       "       [[  2.],\n",
       "        [  6.],\n",
       "        [  8.],\n",
       "        ...,\n",
       "        [ -2.],\n",
       "        [  1.],\n",
       "        [  0.]],\n",
       "\n",
       "       [[ -2.],\n",
       "        [  1.],\n",
       "        [ -1.],\n",
       "        ...,\n",
       "        [-19.],\n",
       "        [-21.],\n",
       "        [-14.]],\n",
       "\n",
       "       [[  2.],\n",
       "        [  1.],\n",
       "        [  3.],\n",
       "        ...,\n",
       "        [  0.],\n",
       "        [  2.],\n",
       "        [  4.]]], dtype=float32)"
      ]
     },
     "execution_count": 13,
     "metadata": {},
     "output_type": "execute_result"
    }
   ],
   "source": [
    "X_train"
   ]
  },
  {
   "cell_type": "markdown",
   "metadata": {},
   "source": [
    "# A normal (cross-sectional) NN\n",
    "\n",
    "This model assumes that the data is NOT a time-series data set. It treats the data as cross-sectional and the columns being independent of each other."
   ]
  },
  {
   "cell_type": "code",
   "execution_count": 14,
   "metadata": {},
   "outputs": [],
   "source": [
    "model = keras.models.Sequential([\n",
    "    \n",
    "    keras.layers.Flatten(input_shape=[36, 1]),\n",
    "    keras.layers.Dense(36, activation='relu'),\n",
    "    keras.layers.Dense(1, activation='sigmoid')\n",
    "    \n",
    "])"
   ]
  },
  {
   "cell_type": "code",
   "execution_count": 15,
   "metadata": {
    "scrolled": true
   },
   "outputs": [
    {
     "name": "stdout",
     "output_type": "stream",
     "text": [
      "Epoch 1/50\n",
      "27/27 [==============================] - 2s 14ms/step - loss: 0.9744 - accuracy: 0.7213 - val_loss: 0.5195 - val_accuracy: 0.7940\n",
      "Epoch 2/50\n",
      "27/27 [==============================] - 0s 5ms/step - loss: 0.5188 - accuracy: 0.7909 - val_loss: 0.5293 - val_accuracy: 0.7615\n",
      "Epoch 3/50\n",
      "27/27 [==============================] - 0s 5ms/step - loss: 0.4490 - accuracy: 0.8026 - val_loss: 0.5196 - val_accuracy: 0.8049\n",
      "Epoch 4/50\n",
      "27/27 [==============================] - 0s 5ms/step - loss: 0.4124 - accuracy: 0.8258 - val_loss: 0.5806 - val_accuracy: 0.7507\n",
      "Epoch 5/50\n",
      "27/27 [==============================] - 0s 5ms/step - loss: 0.4022 - accuracy: 0.8200 - val_loss: 0.5220 - val_accuracy: 0.7534\n",
      "Epoch 6/50\n",
      "27/27 [==============================] - 0s 5ms/step - loss: 0.3950 - accuracy: 0.8304 - val_loss: 0.5616 - val_accuracy: 0.7371\n",
      "Epoch 7/50\n",
      "27/27 [==============================] - 0s 5ms/step - loss: 0.3595 - accuracy: 0.8374 - val_loss: 0.5000 - val_accuracy: 0.8049\n",
      "Epoch 8/50\n",
      "27/27 [==============================] - 0s 5ms/step - loss: 0.3628 - accuracy: 0.8269 - val_loss: 0.4911 - val_accuracy: 0.7859\n",
      "Epoch 9/50\n",
      "27/27 [==============================] - 0s 5ms/step - loss: 0.3483 - accuracy: 0.8455 - val_loss: 0.5412 - val_accuracy: 0.7913\n",
      "Epoch 10/50\n",
      "27/27 [==============================] - 0s 5ms/step - loss: 0.3565 - accuracy: 0.8525 - val_loss: 0.5099 - val_accuracy: 0.7913\n",
      "Epoch 11/50\n",
      "27/27 [==============================] - 0s 5ms/step - loss: 0.3203 - accuracy: 0.8595 - val_loss: 0.5227 - val_accuracy: 0.8184\n",
      "Epoch 12/50\n",
      "27/27 [==============================] - 0s 5ms/step - loss: 0.3137 - accuracy: 0.8630 - val_loss: 0.4869 - val_accuracy: 0.7940\n",
      "Epoch 13/50\n",
      "27/27 [==============================] - 0s 5ms/step - loss: 0.3626 - accuracy: 0.8444 - val_loss: 0.5662 - val_accuracy: 0.8049\n",
      "Epoch 14/50\n",
      "27/27 [==============================] - 0s 5ms/step - loss: 0.3860 - accuracy: 0.8490 - val_loss: 0.5509 - val_accuracy: 0.8103\n",
      "Epoch 15/50\n",
      "27/27 [==============================] - 0s 5ms/step - loss: 0.3668 - accuracy: 0.8432 - val_loss: 0.6167 - val_accuracy: 0.7615\n",
      "Epoch 16/50\n",
      "27/27 [==============================] - 0s 5ms/step - loss: 0.3591 - accuracy: 0.8432 - val_loss: 0.5363 - val_accuracy: 0.7995\n",
      "Epoch 17/50\n",
      "27/27 [==============================] - 0s 5ms/step - loss: 0.3050 - accuracy: 0.8699 - val_loss: 0.5974 - val_accuracy: 0.7561\n",
      "Epoch 18/50\n",
      "27/27 [==============================] - 0s 5ms/step - loss: 0.3103 - accuracy: 0.8734 - val_loss: 0.5438 - val_accuracy: 0.7995\n",
      "Epoch 19/50\n",
      "27/27 [==============================] - 0s 5ms/step - loss: 0.3124 - accuracy: 0.8664 - val_loss: 0.5734 - val_accuracy: 0.7669\n",
      "Epoch 20/50\n",
      "27/27 [==============================] - 0s 5ms/step - loss: 0.2985 - accuracy: 0.8769 - val_loss: 0.5745 - val_accuracy: 0.7724\n",
      "Epoch 21/50\n",
      "27/27 [==============================] - 0s 5ms/step - loss: 0.2959 - accuracy: 0.8757 - val_loss: 0.5383 - val_accuracy: 0.8076\n",
      "Epoch 22/50\n",
      "27/27 [==============================] - 0s 5ms/step - loss: 0.2857 - accuracy: 0.8757 - val_loss: 0.5691 - val_accuracy: 0.7886\n",
      "Epoch 23/50\n",
      "27/27 [==============================] - 0s 5ms/step - loss: 0.3182 - accuracy: 0.8595 - val_loss: 0.5558 - val_accuracy: 0.7724\n",
      "Epoch 24/50\n",
      "27/27 [==============================] - 0s 5ms/step - loss: 0.2901 - accuracy: 0.8815 - val_loss: 0.5858 - val_accuracy: 0.7669\n",
      "Epoch 25/50\n",
      "27/27 [==============================] - 0s 5ms/step - loss: 0.2986 - accuracy: 0.8792 - val_loss: 0.5599 - val_accuracy: 0.7696\n",
      "Epoch 26/50\n",
      "27/27 [==============================] - 0s 5ms/step - loss: 0.2502 - accuracy: 0.9048 - val_loss: 0.6353 - val_accuracy: 0.7480\n",
      "Epoch 27/50\n",
      "27/27 [==============================] - 0s 5ms/step - loss: 0.2697 - accuracy: 0.8955 - val_loss: 0.6269 - val_accuracy: 0.7859\n",
      "Epoch 28/50\n",
      "27/27 [==============================] - 0s 5ms/step - loss: 0.2500 - accuracy: 0.9094 - val_loss: 0.6259 - val_accuracy: 0.7832\n",
      "Epoch 29/50\n",
      "27/27 [==============================] - 0s 5ms/step - loss: 0.2443 - accuracy: 0.8943 - val_loss: 0.6677 - val_accuracy: 0.7507\n",
      "Epoch 30/50\n",
      "27/27 [==============================] - 0s 5ms/step - loss: 0.2684 - accuracy: 0.9001 - val_loss: 0.6419 - val_accuracy: 0.7995\n",
      "Epoch 31/50\n",
      "27/27 [==============================] - 0s 5ms/step - loss: 0.2740 - accuracy: 0.8966 - val_loss: 0.6223 - val_accuracy: 0.7615\n",
      "Epoch 32/50\n",
      "27/27 [==============================] - 0s 5ms/step - loss: 0.2366 - accuracy: 0.9048 - val_loss: 0.6446 - val_accuracy: 0.7805\n",
      "Epoch 33/50\n",
      "27/27 [==============================] - 0s 6ms/step - loss: 0.2414 - accuracy: 0.9048 - val_loss: 0.6708 - val_accuracy: 0.7724\n",
      "Epoch 34/50\n",
      "27/27 [==============================] - 0s 5ms/step - loss: 0.2623 - accuracy: 0.9048 - val_loss: 0.6439 - val_accuracy: 0.7805\n",
      "Epoch 35/50\n",
      "27/27 [==============================] - 0s 5ms/step - loss: 0.2765 - accuracy: 0.8990 - val_loss: 0.6490 - val_accuracy: 0.7805\n",
      "Epoch 36/50\n",
      "27/27 [==============================] - 0s 5ms/step - loss: 0.2247 - accuracy: 0.9152 - val_loss: 0.6675 - val_accuracy: 0.7751\n",
      "Epoch 37/50\n",
      "27/27 [==============================] - 0s 5ms/step - loss: 0.2321 - accuracy: 0.9059 - val_loss: 0.6746 - val_accuracy: 0.7398\n",
      "Epoch 38/50\n",
      "27/27 [==============================] - 0s 5ms/step - loss: 0.2491 - accuracy: 0.8978 - val_loss: 0.6792 - val_accuracy: 0.7886\n",
      "Epoch 39/50\n",
      "27/27 [==============================] - 0s 5ms/step - loss: 0.2450 - accuracy: 0.9013 - val_loss: 0.7249 - val_accuracy: 0.7317\n",
      "Epoch 40/50\n",
      "27/27 [==============================] - 0s 5ms/step - loss: 0.2226 - accuracy: 0.9175 - val_loss: 0.6895 - val_accuracy: 0.7724\n",
      "Epoch 41/50\n",
      "27/27 [==============================] - 0s 5ms/step - loss: 0.2271 - accuracy: 0.9222 - val_loss: 0.7517 - val_accuracy: 0.7615\n",
      "Epoch 42/50\n",
      "27/27 [==============================] - 0s 5ms/step - loss: 0.2285 - accuracy: 0.9106 - val_loss: 0.7164 - val_accuracy: 0.7398\n",
      "Epoch 43/50\n",
      "27/27 [==============================] - 0s 5ms/step - loss: 0.1924 - accuracy: 0.9245 - val_loss: 0.7375 - val_accuracy: 0.7669\n",
      "Epoch 44/50\n",
      "27/27 [==============================] - 0s 5ms/step - loss: 0.2163 - accuracy: 0.9175 - val_loss: 0.7469 - val_accuracy: 0.7724\n",
      "Epoch 45/50\n",
      "27/27 [==============================] - 0s 5ms/step - loss: 0.2166 - accuracy: 0.9152 - val_loss: 0.7895 - val_accuracy: 0.7751\n",
      "Epoch 46/50\n",
      "27/27 [==============================] - 0s 5ms/step - loss: 0.2914 - accuracy: 0.8955 - val_loss: 0.7570 - val_accuracy: 0.7751\n",
      "Epoch 47/50\n",
      "27/27 [==============================] - 0s 5ms/step - loss: 0.2066 - accuracy: 0.9257 - val_loss: 0.8171 - val_accuracy: 0.7317\n",
      "Epoch 48/50\n",
      "27/27 [==============================] - 0s 5ms/step - loss: 0.2006 - accuracy: 0.9222 - val_loss: 0.7819 - val_accuracy: 0.7913\n",
      "Epoch 49/50\n",
      "27/27 [==============================] - 0s 5ms/step - loss: 0.2314 - accuracy: 0.9175 - val_loss: 0.7712 - val_accuracy: 0.7398\n",
      "Epoch 50/50\n",
      "27/27 [==============================] - 0s 5ms/step - loss: 0.2324 - accuracy: 0.9117 - val_loss: 0.7521 - val_accuracy: 0.7534\n"
     ]
    }
   ],
   "source": [
    "np.random.seed(42)\n",
    "tf.random.set_seed(42)\n",
    "\n",
    "optimizer = tf.keras.optimizers.Nadam(learning_rate=0.01)\n",
    "\n",
    "# If multiclass, use \"sparse_categorical_crossentropy\" as the loss function\n",
    "model.compile(loss=\"binary_crossentropy\", optimizer=optimizer, metrics=['accuracy'])\n",
    "\n",
    "\n",
    "history = model.fit(X_train, y_train, epochs=50,\n",
    "                    validation_data=(X_test, y_test))"
   ]
  },
  {
   "cell_type": "code",
   "execution_count": 16,
   "metadata": {},
   "outputs": [
    {
     "data": {
      "text/plain": [
       "[0.7520841956138611, 0.7533875107765198]"
      ]
     },
     "execution_count": 16,
     "metadata": {},
     "output_type": "execute_result"
    }
   ],
   "source": [
    "# evaluate the model\n",
    "\n",
    "scores = model.evaluate(X_test, y_test, verbose=0)\n",
    "\n",
    "scores\n",
    "\n",
    "# In results, first is loss, second is accuracy"
   ]
  },
  {
   "cell_type": "code",
   "execution_count": 17,
   "metadata": {},
   "outputs": [
    {
     "name": "stdout",
     "output_type": "stream",
     "text": [
      "loss: 0.75\n",
      "accuracy: 75.34%\n"
     ]
    }
   ],
   "source": [
    "# extract the accuracy from model.evaluate\n",
    "\n",
    "print(\"%s: %.2f\" % (model.metrics_names[0], scores[0]))\n",
    "print(\"%s: %.2f%%\" % (model.metrics_names[1], scores[1]*100))\n"
   ]
  },
  {
   "cell_type": "markdown",
   "metadata": {},
   "source": [
    "# Simple RNN with one layer"
   ]
  },
  {
   "cell_type": "code",
   "execution_count": 18,
   "metadata": {},
   "outputs": [],
   "source": [
    "n_steps = 36\n",
    "n_inputs = 1\n",
    "\n",
    "model = keras.models.Sequential([\n",
    "    keras.layers.SimpleRNN(32, input_shape=[n_steps, n_inputs]),\n",
    "    keras.layers.Dense(1, activation='sigmoid')\n",
    "])"
   ]
  },
  {
   "cell_type": "code",
   "execution_count": 19,
   "metadata": {
    "scrolled": true
   },
   "outputs": [
    {
     "name": "stdout",
     "output_type": "stream",
     "text": [
      "Epoch 1/50\n",
      "27/27 [==============================] - 3s 23ms/step - loss: 0.4378 - accuracy: 0.8060 - val_loss: 0.3850 - val_accuracy: 0.8347\n",
      "Epoch 2/50\n",
      "27/27 [==============================] - 0s 11ms/step - loss: 0.4176 - accuracy: 0.8026 - val_loss: 0.4061 - val_accuracy: 0.8049\n",
      "Epoch 3/50\n",
      "27/27 [==============================] - 0s 11ms/step - loss: 0.4136 - accuracy: 0.7979 - val_loss: 0.4043 - val_accuracy: 0.8076\n",
      "Epoch 4/50\n",
      "27/27 [==============================] - 0s 10ms/step - loss: 0.4071 - accuracy: 0.8026 - val_loss: 0.3940 - val_accuracy: 0.8211\n",
      "Epoch 5/50\n",
      "27/27 [==============================] - 0s 11ms/step - loss: 0.3944 - accuracy: 0.8211 - val_loss: 0.4052 - val_accuracy: 0.8103\n",
      "Epoch 6/50\n",
      "27/27 [==============================] - 0s 11ms/step - loss: 0.3952 - accuracy: 0.8130 - val_loss: 0.4045 - val_accuracy: 0.8103\n",
      "Epoch 6: early stopping\n"
     ]
    }
   ],
   "source": [
    "from tensorflow.keras.callbacks import EarlyStopping\n",
    "\n",
    "optimizer = tf.keras.optimizers.Nadam(learning_rate=0.01)\n",
    "\n",
    "# If multiclass, use \"sparse_categorical_crossentropy\" as the loss function\n",
    "model.compile(loss=\"binary_crossentropy\", optimizer=optimizer, metrics=['accuracy'])\n",
    "\n",
    "early_stop = EarlyStopping(monitor='val_loss', patience=5, verbose=1, mode='auto')\n",
    "\n",
    "history = model.fit(\n",
    "    X_train, \n",
    "    y_train, \n",
    "    epochs=50,\n",
    "    validation_data=(X_test, y_test), \n",
    "    callbacks=[early_stop]\n",
    ")"
   ]
  },
  {
   "cell_type": "code",
   "execution_count": 20,
   "metadata": {},
   "outputs": [
    {
     "data": {
      "text/plain": [
       "[0.4044952392578125, 0.8102980852127075]"
      ]
     },
     "execution_count": 20,
     "metadata": {},
     "output_type": "execute_result"
    }
   ],
   "source": [
    "# evaluate the model\n",
    "scores = model.evaluate(X_test, y_test, verbose=0)\n",
    "\n",
    "scores\n",
    "\n",
    "# In results, first is loss, second is accuracy"
   ]
  },
  {
   "cell_type": "code",
   "execution_count": 21,
   "metadata": {},
   "outputs": [
    {
     "name": "stdout",
     "output_type": "stream",
     "text": [
      "loss: 0.40\n",
      "accuracy: 81.03\n"
     ]
    }
   ],
   "source": [
    "# extract the accuracy from model.evaluate\n",
    "print(f\"{model.metrics_names[0]:s}: {scores[0]:.2f}\")\n",
    "print(f\"{model.metrics_names[1]:s}: {scores[1]*100:.2f}\")"
   ]
  },
  {
   "cell_type": "code",
   "execution_count": 22,
   "metadata": {},
   "outputs": [
    {
     "name": "stdout",
     "output_type": "stream",
     "text": [
      "12/12 [==============================] - 0s 4ms/step\n"
     ]
    }
   ],
   "source": [
    "# Predictions are probabilities.\n",
    "\n",
    "predictions = model.predict(X_test)"
   ]
  },
  {
   "cell_type": "code",
   "execution_count": 23,
   "metadata": {},
   "outputs": [
    {
     "data": {
      "text/plain": [
       "array([[0.],\n",
       "       [1.],\n",
       "       [0.],\n",
       "       [0.],\n",
       "       [0.],\n",
       "       [1.],\n",
       "       [1.],\n",
       "       [1.],\n",
       "       [0.],\n",
       "       [1.]], dtype=float32)"
      ]
     },
     "execution_count": 23,
     "metadata": {},
     "output_type": "execute_result"
    }
   ],
   "source": [
    "# Rounding the probabilities determines 1 or 0\n",
    "\n",
    "np.round(predictions)[:10] # show first 10 predictions"
   ]
  },
  {
   "cell_type": "code",
   "execution_count": 24,
   "metadata": {},
   "outputs": [
    {
     "data": {
      "text/plain": [
       "array([[124,  43],\n",
       "       [ 27, 175]], dtype=int64)"
      ]
     },
     "execution_count": 24,
     "metadata": {},
     "output_type": "execute_result"
    }
   ],
   "source": [
    "from sklearn.metrics import confusion_matrix\n",
    "\n",
    "confusion_matrix(y_test, np.round(predictions))"
   ]
  },
  {
   "cell_type": "markdown",
   "metadata": {},
   "source": [
    "# Deep RNN\n",
    "\n",
    "**Be careful: when stacking RNN layers, you have to set \"return_sequences\" to True. This enables the layer to send a \"sequence\" of values to the next layer -- jut like how it uses a sequence of values for training.**\n",
    "\n",
    "**Since the last layer is DENSE, it can't take sequence data. Therefore, you CANNOT return sequences from the previous layer. So, remove** `return_sequences` **from previous layer.**"
   ]
  },
  {
   "cell_type": "code",
   "execution_count": 25,
   "metadata": {},
   "outputs": [],
   "source": [
    "n_steps = 36\n",
    "n_inputs = 1\n",
    "\n",
    "model = keras.models.Sequential([\n",
    "    keras.layers.SimpleRNN(32, return_sequences=True, input_shape=[n_steps, n_inputs] ),\n",
    "    keras.layers.SimpleRNN(32, return_sequences=True),\n",
    "    keras.layers.SimpleRNN(32), \n",
    "    keras.layers.Dense(1, activation='sigmoid')\n",
    "])"
   ]
  },
  {
   "cell_type": "code",
   "execution_count": 26,
   "metadata": {
    "scrolled": true
   },
   "outputs": [
    {
     "name": "stdout",
     "output_type": "stream",
     "text": [
      "Epoch 1/20\n",
      "27/27 [==============================] - 6s 39ms/step - loss: 0.4567 - accuracy: 0.7747 - val_loss: 0.3923 - val_accuracy: 0.8130\n",
      "Epoch 2/20\n",
      "27/27 [==============================] - 1s 20ms/step - loss: 0.4242 - accuracy: 0.7921 - val_loss: 0.4332 - val_accuracy: 0.7886\n",
      "Epoch 3/20\n",
      "27/27 [==============================] - 1s 21ms/step - loss: 0.4200 - accuracy: 0.8060 - val_loss: 0.4110 - val_accuracy: 0.8076\n",
      "Epoch 4/20\n",
      "27/27 [==============================] - 1s 20ms/step - loss: 0.4087 - accuracy: 0.7933 - val_loss: 0.3965 - val_accuracy: 0.8347\n",
      "Epoch 5/20\n",
      "27/27 [==============================] - 1s 19ms/step - loss: 0.4155 - accuracy: 0.7991 - val_loss: 0.3895 - val_accuracy: 0.8184\n",
      "Epoch 6/20\n",
      "27/27 [==============================] - 1s 20ms/step - loss: 0.4033 - accuracy: 0.8049 - val_loss: 0.4049 - val_accuracy: 0.8076\n",
      "Epoch 7/20\n",
      "27/27 [==============================] - 1s 20ms/step - loss: 0.3864 - accuracy: 0.8002 - val_loss: 0.4091 - val_accuracy: 0.8076\n",
      "Epoch 8/20\n",
      "27/27 [==============================] - 1s 20ms/step - loss: 0.3881 - accuracy: 0.8002 - val_loss: 0.4444 - val_accuracy: 0.7940\n",
      "Epoch 9/20\n",
      "27/27 [==============================] - 1s 20ms/step - loss: 0.3872 - accuracy: 0.8014 - val_loss: 0.4272 - val_accuracy: 0.7995\n",
      "Epoch 10/20\n",
      "27/27 [==============================] - 1s 21ms/step - loss: 0.3805 - accuracy: 0.8014 - val_loss: 0.4326 - val_accuracy: 0.7859\n",
      "Epoch 10: early stopping\n"
     ]
    }
   ],
   "source": [
    "np.random.seed(42)\n",
    "tf.random.set_seed(42)\n",
    "\n",
    "optimizer = keras.optimizers.Nadam(learning_rate=0.01)\n",
    "\n",
    "model.compile(loss=\"binary_crossentropy\", optimizer=optimizer, metrics=['accuracy'])\n",
    "\n",
    "history = model.fit(\n",
    "    X_train, \n",
    "    y_train, \n",
    "    epochs=20,\n",
    "    validation_data = (X_test, y_test), \n",
    "    callbacks=[early_stop])  # we defined this early_stop callback function earlier"
   ]
  },
  {
   "cell_type": "code",
   "execution_count": 27,
   "metadata": {},
   "outputs": [
    {
     "data": {
      "text/plain": [
       "[0.4326169788837433, 0.7859078645706177]"
      ]
     },
     "execution_count": 27,
     "metadata": {},
     "output_type": "execute_result"
    }
   ],
   "source": [
    "# evaluate the model\n",
    "\n",
    "scores = model.evaluate(X_test, y_test, verbose=0)\n",
    "\n",
    "scores\n",
    "# In results, first is loss, second is accuracy"
   ]
  },
  {
   "cell_type": "code",
   "execution_count": 28,
   "metadata": {
    "scrolled": true
   },
   "outputs": [
    {
     "name": "stdout",
     "output_type": "stream",
     "text": [
      "loss: 0.43\n",
      "accuracy: 78.59\n"
     ]
    }
   ],
   "source": [
    "# extract the accuracy from model.evaluate\n",
    "print(f\"{model.metrics_names[0]:s}: {scores[0]:.2f}\")\n",
    "print(f\"{model.metrics_names[1]:s}: {scores[1]*100:.2f}\")"
   ]
  },
  {
   "cell_type": "markdown",
   "metadata": {},
   "source": [
    "# LSTM with one layer"
   ]
  },
  {
   "cell_type": "code",
   "execution_count": 29,
   "metadata": {},
   "outputs": [],
   "source": [
    "n_steps = 36\n",
    "n_inputs = 1\n",
    "\n",
    "model = keras.models.Sequential([\n",
    "    keras.layers.LSTM(32, input_shape=[n_steps, n_inputs]),\n",
    "    keras.layers.Dense(1, activation='sigmoid')\n",
    "])"
   ]
  },
  {
   "cell_type": "code",
   "execution_count": 30,
   "metadata": {
    "scrolled": true
   },
   "outputs": [
    {
     "name": "stdout",
     "output_type": "stream",
     "text": [
      "Epoch 1/20\n",
      "27/27 [==============================] - 4s 46ms/step - loss: 0.5143 - accuracy: 0.7213 - val_loss: 0.3972 - val_accuracy: 0.8266\n",
      "Epoch 2/20\n",
      "27/27 [==============================] - 0s 17ms/step - loss: 0.4233 - accuracy: 0.7991 - val_loss: 0.4113 - val_accuracy: 0.8103\n",
      "Epoch 3/20\n",
      "27/27 [==============================] - 0s 17ms/step - loss: 0.4159 - accuracy: 0.8002 - val_loss: 0.3943 - val_accuracy: 0.8266\n",
      "Epoch 4/20\n",
      "27/27 [==============================] - 0s 18ms/step - loss: 0.4102 - accuracy: 0.8014 - val_loss: 0.3958 - val_accuracy: 0.8184\n",
      "Epoch 5/20\n",
      "27/27 [==============================] - 0s 17ms/step - loss: 0.4072 - accuracy: 0.8084 - val_loss: 0.4025 - val_accuracy: 0.8184\n",
      "Epoch 6/20\n",
      "27/27 [==============================] - 0s 17ms/step - loss: 0.4008 - accuracy: 0.8014 - val_loss: 0.4090 - val_accuracy: 0.7995\n",
      "Epoch 7/20\n",
      "27/27 [==============================] - 0s 18ms/step - loss: 0.3975 - accuracy: 0.8002 - val_loss: 0.4077 - val_accuracy: 0.8211\n",
      "Epoch 8/20\n",
      "27/27 [==============================] - 0s 18ms/step - loss: 0.4006 - accuracy: 0.8084 - val_loss: 0.4173 - val_accuracy: 0.8022\n",
      "Epoch 8: early stopping\n"
     ]
    }
   ],
   "source": [
    "np.random.seed(42)\n",
    "tf.random.set_seed(42)\n",
    "\n",
    "optimizer = keras.optimizers.Nadam(learning_rate=0.01)\n",
    "\n",
    "model.compile(loss=\"binary_crossentropy\", optimizer=optimizer, metrics=['accuracy'])\n",
    "\n",
    "history = model.fit(\n",
    "    X_train, \n",
    "    y_train, \n",
    "    epochs=20,\n",
    "    validation_data=(X_test, y_test),\n",
    "    callbacks=[early_stop]) # we defined this early_stop callback function earlier"
   ]
  },
  {
   "cell_type": "code",
   "execution_count": 31,
   "metadata": {},
   "outputs": [
    {
     "data": {
      "text/plain": [
       "[0.41734516620635986, 0.8021680116653442]"
      ]
     },
     "execution_count": 31,
     "metadata": {},
     "output_type": "execute_result"
    }
   ],
   "source": [
    "# evaluate the model\n",
    "\n",
    "scores = model.evaluate(X_test, y_test, verbose=0)\n",
    "scores\n",
    "\n",
    "# In results, first is loss, second is accuracy"
   ]
  },
  {
   "cell_type": "code",
   "execution_count": 32,
   "metadata": {
    "scrolled": true
   },
   "outputs": [
    {
     "name": "stdout",
     "output_type": "stream",
     "text": [
      "loss: 0.42\n",
      "accuracy: 80.22\n"
     ]
    }
   ],
   "source": [
    "# extract the accuracy from model.evaluate\n",
    "print(f\"{model.metrics_names[0]:s}: {scores[0]:.2f}\")\n",
    "print(f\"{model.metrics_names[1]:s}: {scores[1]*100:.2f}\")"
   ]
  },
  {
   "cell_type": "markdown",
   "metadata": {},
   "source": [
    "# LSTM with more layers"
   ]
  },
  {
   "cell_type": "code",
   "execution_count": 33,
   "metadata": {},
   "outputs": [],
   "source": [
    "n_steps = 36\n",
    "n_inputs = 1\n",
    "\n",
    "model = keras.models.Sequential([\n",
    "    keras.layers.LSTM(32, return_sequences=True, input_shape=[n_steps, n_inputs]),\n",
    "    keras.layers.LSTM(32, return_sequences=True),\n",
    "    keras.layers.LSTM(32),\n",
    "    keras.layers.Dense(1, activation='sigmoid')\n",
    "])"
   ]
  },
  {
   "cell_type": "code",
   "execution_count": 34,
   "metadata": {
    "scrolled": true
   },
   "outputs": [
    {
     "name": "stdout",
     "output_type": "stream",
     "text": [
      "Epoch 1/20\n",
      "27/27 [==============================] - 9s 92ms/step - loss: 0.5033 - accuracy: 0.7573 - val_loss: 0.4089 - val_accuracy: 0.8293\n",
      "Epoch 2/20\n",
      "27/27 [==============================] - 1s 45ms/step - loss: 0.4312 - accuracy: 0.7909 - val_loss: 0.4096 - val_accuracy: 0.8022\n",
      "Epoch 3/20\n",
      "27/27 [==============================] - 1s 44ms/step - loss: 0.4180 - accuracy: 0.7933 - val_loss: 0.4151 - val_accuracy: 0.7967\n",
      "Epoch 4/20\n",
      "27/27 [==============================] - 1s 44ms/step - loss: 0.4120 - accuracy: 0.8014 - val_loss: 0.3962 - val_accuracy: 0.8184\n",
      "Epoch 5/20\n",
      "27/27 [==============================] - 1s 44ms/step - loss: 0.4136 - accuracy: 0.8026 - val_loss: 0.4150 - val_accuracy: 0.7967\n",
      "Epoch 6/20\n",
      "27/27 [==============================] - 1s 42ms/step - loss: 0.4093 - accuracy: 0.7991 - val_loss: 0.4086 - val_accuracy: 0.8266\n",
      "Epoch 7/20\n",
      "27/27 [==============================] - 1s 43ms/step - loss: 0.3991 - accuracy: 0.7967 - val_loss: 0.4361 - val_accuracy: 0.7886\n",
      "Epoch 8/20\n",
      "27/27 [==============================] - 1s 44ms/step - loss: 0.4005 - accuracy: 0.7991 - val_loss: 0.4496 - val_accuracy: 0.7913\n",
      "Epoch 9/20\n",
      "27/27 [==============================] - 1s 43ms/step - loss: 0.3887 - accuracy: 0.8258 - val_loss: 0.4648 - val_accuracy: 0.7859\n",
      "Epoch 9: early stopping\n"
     ]
    }
   ],
   "source": [
    "np.random.seed(42)\n",
    "tf.random.set_seed(42)\n",
    "\n",
    "optimizer = keras.optimizers.Nadam(learning_rate=0.01)\n",
    "\n",
    "model.compile(loss=\"binary_crossentropy\", optimizer=optimizer, metrics=['accuracy'])\n",
    "\n",
    "history = model.fit(\n",
    "    X_train, \n",
    "    y_train, \n",
    "    epochs=20,\n",
    "    validation_data=(X_test, y_test), \n",
    "    callbacks=[early_stop] # we defined this early_stop callback function earlier\n",
    ")"
   ]
  },
  {
   "cell_type": "code",
   "execution_count": 35,
   "metadata": {},
   "outputs": [
    {
     "data": {
      "text/plain": [
       "[0.4647825360298157, 0.7859078645706177]"
      ]
     },
     "execution_count": 35,
     "metadata": {},
     "output_type": "execute_result"
    }
   ],
   "source": [
    "# evaluate the model\n",
    "\n",
    "scores = model.evaluate(X_test, y_test, verbose=0)\n",
    "scores\n",
    "\n",
    "# In results, first is loss, second is accuracy"
   ]
  },
  {
   "cell_type": "code",
   "execution_count": 36,
   "metadata": {
    "scrolled": true
   },
   "outputs": [
    {
     "name": "stdout",
     "output_type": "stream",
     "text": [
      "loss: 0.46\n",
      "accuracy: 78.59%\n"
     ]
    }
   ],
   "source": [
    "# extract the accuracy from model.evaluate\n",
    "\n",
    "print(\"%s: %.2f\" % (model.metrics_names[0], scores[0]))\n",
    "print(\"%s: %.2f%%\" % (model.metrics_names[1], scores[1]*100))\n"
   ]
  },
  {
   "cell_type": "markdown",
   "metadata": {},
   "source": [
    "# GRU with one layer"
   ]
  },
  {
   "cell_type": "code",
   "execution_count": 37,
   "metadata": {},
   "outputs": [],
   "source": [
    "n_steps = 36\n",
    "n_inputs = 1\n",
    "\n",
    "model = keras.models.Sequential([\n",
    "    keras.layers.GRU(32, input_shape=[n_steps, n_inputs]),\n",
    "    keras.layers.Dense(1, activation='sigmoid')\n",
    "])"
   ]
  },
  {
   "cell_type": "code",
   "execution_count": 38,
   "metadata": {
    "scrolled": true
   },
   "outputs": [
    {
     "name": "stdout",
     "output_type": "stream",
     "text": [
      "Epoch 1/20\n",
      "27/27 [==============================] - 4s 32ms/step - loss: 0.4565 - accuracy: 0.7724 - val_loss: 0.3901 - val_accuracy: 0.8347\n",
      "Epoch 2/20\n",
      "27/27 [==============================] - 0s 15ms/step - loss: 0.4129 - accuracy: 0.7944 - val_loss: 0.4025 - val_accuracy: 0.8130\n",
      "Epoch 3/20\n",
      "27/27 [==============================] - 0s 16ms/step - loss: 0.4171 - accuracy: 0.7991 - val_loss: 0.3914 - val_accuracy: 0.8293\n",
      "Epoch 4/20\n",
      "27/27 [==============================] - 0s 16ms/step - loss: 0.4099 - accuracy: 0.7875 - val_loss: 0.3920 - val_accuracy: 0.8293\n",
      "Epoch 5/20\n",
      "27/27 [==============================] - 0s 15ms/step - loss: 0.4061 - accuracy: 0.8014 - val_loss: 0.3957 - val_accuracy: 0.8293\n",
      "Epoch 6/20\n",
      "27/27 [==============================] - 0s 15ms/step - loss: 0.4033 - accuracy: 0.7956 - val_loss: 0.4063 - val_accuracy: 0.8238\n",
      "Epoch 6: early stopping\n"
     ]
    }
   ],
   "source": [
    "np.random.seed(42)\n",
    "tf.random.set_seed(42)\n",
    "\n",
    "optimizer = keras.optimizers.Nadam(learning_rate=0.01)\n",
    "\n",
    "model.compile(loss=\"binary_crossentropy\", optimizer=optimizer, metrics=['accuracy'])\n",
    "\n",
    "history = model.fit(\n",
    "    X_train, \n",
    "    y_train, \n",
    "    epochs=20,\n",
    "    validation_data=(X_test, y_test),\n",
    "    callbacks=[early_stop] # we defined this early_stop callback function earlier\n",
    ")"
   ]
  },
  {
   "cell_type": "code",
   "execution_count": 39,
   "metadata": {},
   "outputs": [
    {
     "data": {
      "text/plain": [
       "[0.4062686860561371, 0.8238482475280762]"
      ]
     },
     "execution_count": 39,
     "metadata": {},
     "output_type": "execute_result"
    }
   ],
   "source": [
    "# evaluate the model\n",
    "\n",
    "scores = model.evaluate(X_test, y_test, verbose=0)\n",
    "scores\n",
    "\n",
    "# In results, first is loss, second is accuracy"
   ]
  },
  {
   "cell_type": "code",
   "execution_count": 40,
   "metadata": {
    "scrolled": false
   },
   "outputs": [
    {
     "name": "stdout",
     "output_type": "stream",
     "text": [
      "loss: 0.41\n",
      "accuracy: 82.38\n"
     ]
    }
   ],
   "source": [
    "# extract the accuracy from model.evaluate\n",
    "print(f\"{model.metrics_names[0]:s}: {scores[0]:.2f}\")\n",
    "print(f\"{model.metrics_names[1]:s}: {scores[1]*100:.2f}\")"
   ]
  },
  {
   "cell_type": "markdown",
   "metadata": {},
   "source": [
    "# GRU with more layers"
   ]
  },
  {
   "cell_type": "code",
   "execution_count": 41,
   "metadata": {},
   "outputs": [],
   "source": [
    "n_steps = 36\n",
    "n_inputs = 1\n",
    "\n",
    "model = keras.models.Sequential([\n",
    "    keras.layers.GRU(32, return_sequences=True, input_shape=[n_steps, n_inputs]),\n",
    "    keras.layers.GRU(32, return_sequences=True),\n",
    "    keras.layers.GRU(32),\n",
    "    keras.layers.Dense(1, activation='sigmoid')\n",
    "])"
   ]
  },
  {
   "cell_type": "code",
   "execution_count": 42,
   "metadata": {
    "scrolled": true
   },
   "outputs": [
    {
     "name": "stdout",
     "output_type": "stream",
     "text": [
      "Epoch 1/20\n",
      "27/27 [==============================] - 9s 86ms/step - loss: 0.4531 - accuracy: 0.7933 - val_loss: 0.3958 - val_accuracy: 0.8157\n",
      "Epoch 2/20\n",
      "27/27 [==============================] - 1s 42ms/step - loss: 0.4203 - accuracy: 0.7933 - val_loss: 0.4049 - val_accuracy: 0.8211\n",
      "Epoch 3/20\n",
      "27/27 [==============================] - 1s 42ms/step - loss: 0.4191 - accuracy: 0.8002 - val_loss: 0.4076 - val_accuracy: 0.8103\n",
      "Epoch 4/20\n",
      "27/27 [==============================] - 1s 44ms/step - loss: 0.4120 - accuracy: 0.7967 - val_loss: 0.3926 - val_accuracy: 0.8238\n",
      "Epoch 5/20\n",
      "27/27 [==============================] - 1s 44ms/step - loss: 0.4135 - accuracy: 0.8002 - val_loss: 0.4120 - val_accuracy: 0.8103\n",
      "Epoch 6/20\n",
      "27/27 [==============================] - 1s 43ms/step - loss: 0.4124 - accuracy: 0.7956 - val_loss: 0.4142 - val_accuracy: 0.8157\n",
      "Epoch 7/20\n",
      "27/27 [==============================] - 1s 45ms/step - loss: 0.4039 - accuracy: 0.8026 - val_loss: 0.4113 - val_accuracy: 0.8157\n",
      "Epoch 8/20\n",
      "27/27 [==============================] - 1s 45ms/step - loss: 0.4123 - accuracy: 0.7840 - val_loss: 0.4447 - val_accuracy: 0.7561\n",
      "Epoch 9/20\n",
      "27/27 [==============================] - 1s 43ms/step - loss: 0.4012 - accuracy: 0.7933 - val_loss: 0.4174 - val_accuracy: 0.8157\n",
      "Epoch 9: early stopping\n"
     ]
    }
   ],
   "source": [
    "np.random.seed(42)\n",
    "tf.random.set_seed(42)\n",
    "\n",
    "optimizer = keras.optimizers.Nadam(learning_rate=0.01)\n",
    "\n",
    "model.compile(loss=\"binary_crossentropy\", optimizer=optimizer, metrics=['accuracy'])\n",
    "\n",
    "history = model.fit(\n",
    "    X_train, \n",
    "    y_train, \n",
    "    epochs=20,\n",
    "    validation_data=(X_test, y_test), \n",
    "    callbacks=[early_stop] # we defined this early_stop callback function earlier\n",
    ")"
   ]
  },
  {
   "cell_type": "code",
   "execution_count": 43,
   "metadata": {},
   "outputs": [
    {
     "data": {
      "text/plain": [
       "[0.41735270619392395, 0.8157181739807129]"
      ]
     },
     "execution_count": 43,
     "metadata": {},
     "output_type": "execute_result"
    }
   ],
   "source": [
    "# evaluate the model\n",
    "\n",
    "scores = model.evaluate(X_test, y_test, verbose=0)\n",
    "scores\n",
    "\n",
    "# In results, first is loss, second is accuracy"
   ]
  },
  {
   "cell_type": "code",
   "execution_count": 44,
   "metadata": {
    "scrolled": false
   },
   "outputs": [
    {
     "name": "stdout",
     "output_type": "stream",
     "text": [
      "loss: 0.42\n",
      "accuracy: 81.57%\n"
     ]
    }
   ],
   "source": [
    "# extract the accuracy from model.evaluate\n",
    "\n",
    "print(\"%s: %.2f\" % (model.metrics_names[0], scores[0]))\n",
    "print(\"%s: %.2f%%\" % (model.metrics_names[1], scores[1]*100))\n"
   ]
  },
  {
   "cell_type": "markdown",
   "metadata": {},
   "source": [
    "# Conv1D"
   ]
  },
  {
   "cell_type": "code",
   "execution_count": 45,
   "metadata": {},
   "outputs": [
    {
     "name": "stdout",
     "output_type": "stream",
     "text": [
      "Model: \"sequential_7\"\n",
      "_________________________________________________________________\n",
      " Layer (type)                Output Shape              Param #   \n",
      "=================================================================\n",
      " conv1d (Conv1D)             (None, 17, 10)            40        \n",
      "                                                                 \n",
      " conv1d_1 (Conv1D)           (None, 13, 20)            620       \n",
      "                                                                 \n",
      " lstm_4 (LSTM)               (None, 13, 32)            6784      \n",
      "                                                                 \n",
      " lstm_5 (LSTM)               (None, 32)                8320      \n",
      "                                                                 \n",
      " dense_8 (Dense)             (None, 1)                 33        \n",
      "                                                                 \n",
      "=================================================================\n",
      "Total params: 15,797\n",
      "Trainable params: 15,797\n",
      "Non-trainable params: 0\n",
      "_________________________________________________________________\n"
     ]
    }
   ],
   "source": [
    "n_steps = 36\n",
    "n_inputs = 1\n",
    "\n",
    "model = keras.models.Sequential([\n",
    "    keras.layers.Conv1D(filters=10, kernel_size=3, strides=2, padding=\"valid\", input_shape=[n_steps, n_inputs]),\n",
    "    keras.layers.Conv1D(filters=20, kernel_size=3, strides=1, padding=\"valid\", dilation_rate=2),\n",
    "    keras.layers.LSTM(32, return_sequences=True),\n",
    "    keras.layers.LSTM(32),\n",
    "    keras.layers.Dense(1, activation='sigmoid')\n",
    "])\n",
    "\n",
    "model.summary()"
   ]
  },
  {
   "cell_type": "code",
   "execution_count": 46,
   "metadata": {
    "scrolled": true
   },
   "outputs": [
    {
     "name": "stdout",
     "output_type": "stream",
     "text": [
      "Epoch 1/20\n",
      "27/27 [==============================] - 7s 49ms/step - loss: 0.5265 - accuracy: 0.7224 - val_loss: 0.4283 - val_accuracy: 0.8157\n",
      "Epoch 2/20\n",
      "27/27 [==============================] - 0s 16ms/step - loss: 0.4555 - accuracy: 0.7851 - val_loss: 0.4235 - val_accuracy: 0.8130\n",
      "Epoch 3/20\n",
      "27/27 [==============================] - 0s 16ms/step - loss: 0.4361 - accuracy: 0.7816 - val_loss: 0.4106 - val_accuracy: 0.7995\n",
      "Epoch 4/20\n",
      "27/27 [==============================] - 0s 17ms/step - loss: 0.4225 - accuracy: 0.8072 - val_loss: 0.4182 - val_accuracy: 0.8103\n",
      "Epoch 5/20\n",
      "27/27 [==============================] - 0s 17ms/step - loss: 0.4260 - accuracy: 0.7967 - val_loss: 0.4371 - val_accuracy: 0.7940\n",
      "Epoch 6/20\n",
      "27/27 [==============================] - 0s 18ms/step - loss: 0.4147 - accuracy: 0.7933 - val_loss: 0.4514 - val_accuracy: 0.7805\n",
      "Epoch 7/20\n",
      "27/27 [==============================] - 0s 16ms/step - loss: 0.3982 - accuracy: 0.8165 - val_loss: 0.4272 - val_accuracy: 0.7886\n",
      "Epoch 8/20\n",
      "27/27 [==============================] - 0s 17ms/step - loss: 0.3776 - accuracy: 0.8269 - val_loss: 0.4732 - val_accuracy: 0.7669\n",
      "Epoch 8: early stopping\n"
     ]
    }
   ],
   "source": [
    "np.random.seed(42)\n",
    "tf.random.set_seed(42)\n",
    "\n",
    "optimizer = keras.optimizers.Nadam(learning_rate=0.01)\n",
    "\n",
    "model.compile(loss=\"binary_crossentropy\", optimizer=optimizer, metrics=['accuracy'])\n",
    "\n",
    "history = model.fit(\n",
    "    X_train, \n",
    "    y_train, \n",
    "    epochs=20,\n",
    "    validation_data=(X_test, y_test), \n",
    "    callbacks=[early_stop] # we defined this early_stop callback function earlier\n",
    ")"
   ]
  },
  {
   "cell_type": "code",
   "execution_count": 47,
   "metadata": {},
   "outputs": [
    {
     "data": {
      "text/plain": [
       "[0.473165363073349, 0.7669376730918884]"
      ]
     },
     "execution_count": 47,
     "metadata": {},
     "output_type": "execute_result"
    }
   ],
   "source": [
    "# evaluate the model\n",
    "\n",
    "scores = model.evaluate(X_test, y_test, verbose=0)\n",
    "scores\n",
    "\n",
    "# In results, first is loss, second is accuracy"
   ]
  },
  {
   "cell_type": "code",
   "execution_count": 48,
   "metadata": {
    "scrolled": false
   },
   "outputs": [
    {
     "name": "stdout",
     "output_type": "stream",
     "text": [
      "loss: 0.47\n",
      "accuracy: 76.69\n"
     ]
    }
   ],
   "source": [
    "# extract the accuracy from model.evaluate\n",
    "print(f\"{model.metrics_names[0]:s}: {scores[0]:.2f}\")\n",
    "print(f\"{model.metrics_names[1]:s}: {scores[1]*100:.2f}\")"
   ]
  },
  {
   "cell_type": "code",
   "execution_count": null,
   "metadata": {},
   "outputs": [],
   "source": []
  }
 ],
 "metadata": {
  "kernelspec": {
   "display_name": "Python 3 (ipykernel)",
   "language": "python",
   "name": "python3"
  },
  "language_info": {
   "codemirror_mode": {
    "name": "ipython",
    "version": 3
   },
   "file_extension": ".py",
   "mimetype": "text/x-python",
   "name": "python",
   "nbconvert_exporter": "python",
   "pygments_lexer": "ipython3",
   "version": "3.9.12"
  },
  "nav_menu": {},
  "toc": {
   "base_numbering": 1,
   "nav_menu": {},
   "number_sections": false,
   "sideBar": true,
   "skip_h1_title": false,
   "title_cell": "Table of Contents",
   "title_sidebar": "Contents",
   "toc_cell": false,
   "toc_position": {
    "height": "calc(100% - 180px)",
    "left": "10px",
    "top": "150px",
    "width": "288px"
   },
   "toc_section_display": "block",
   "toc_window_display": true
  },
  "varInspector": {
   "cols": {
    "lenName": 16,
    "lenType": 16,
    "lenVar": 40
   },
   "kernels_config": {
    "python": {
     "delete_cmd_postfix": "",
     "delete_cmd_prefix": "del ",
     "library": "var_list.py",
     "varRefreshCmd": "print(var_dic_list())"
    },
    "r": {
     "delete_cmd_postfix": ") ",
     "delete_cmd_prefix": "rm(",
     "library": "var_list.r",
     "varRefreshCmd": "cat(var_dic_list()) "
    }
   },
   "types_to_exclude": [
    "module",
    "function",
    "builtin_function_or_method",
    "instance",
    "_Feature"
   ],
   "window_display": false
  }
 },
 "nbformat": 4,
 "nbformat_minor": 1
}
