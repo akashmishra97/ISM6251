{
 "cells": [
  {
   "cell_type": "code",
   "execution_count": 6,
   "id": "c3c0fb2b",
   "metadata": {},
   "outputs": [
    {
     "name": "stdout",
     "output_type": "stream",
     "text": [
      "\n",
      "*****************************************************\n",
      "* The USF Super Simple Model to predict Ownership of Lawn Mowers *\n",
      "*****************************************************\n",
      "\n",
      "Enter the Household Income 60\n",
      "Enter the Property lot size 30\n",
      "\n",
      "The USF Simple Model to predict Ownership of Lawn Mowers indicates that the property's owner is Potential lawn mower Owner with a probability of 0.70.\n",
      "\n"
     ]
    }
   ],
   "source": [
    "import pandas as pd\n",
    "import numpy as np\n",
    "import matplotlib.pyplot as plt\n",
    "from sklearn.metrics import confusion_matrix\n",
    "import pickle\n",
    "\n",
    "# Uncomment the following snippet of code to debug problems with finding the .pkl file path\n",
    "# This snippet of code will exit the program and print the current working directory.\n",
    "# import os\n",
    "# exit(os.getcwd())\n",
    "\n",
    "LawnMower_Model = pickle.load(open('./data/svm_lin_model.pkl', \"rb\"))\n",
    "\n",
    "print(\"\\n*****************************************************\")\n",
    "print(\"* The USF Super Simple Model to predict Ownership of Lawn Mowers *\")\n",
    "print(\"*****************************************************\\n\")\n",
    "Income = float(input(\"Enter the Household Income \"))\n",
    "Lot_Size = float(input(\"Enter the Property lot size \"))\n",
    "df = pd.DataFrame({'Income': [Income], 'Lot_Size': [Lot_Size]})\n",
    "result = LawnMower_Model.predict(df)\n",
    "Ownership = ('Not a Potential lawn mower Owner', 'Potential lawn mower Owner')\n",
    "prob = LawnMower_Model.predict_proba(df)[0][1]\n",
    "print(f\"\\nThe USF Simple Model to predict Ownership of Lawn Mowers indicates that the property's owner is {Ownership[result[0]]} with a probability of {prob:.2f}.\\n\")\n"
   ]
  },
  {
   "cell_type": "code",
   "execution_count": null,
   "id": "3f2e4661",
   "metadata": {},
   "outputs": [],
   "source": []
  }
 ],
 "metadata": {
  "kernelspec": {
   "display_name": "Python 3 (ipykernel)",
   "language": "python",
   "name": "python3"
  },
  "language_info": {
   "codemirror_mode": {
    "name": "ipython",
    "version": 3
   },
   "file_extension": ".py",
   "mimetype": "text/x-python",
   "name": "python",
   "nbconvert_exporter": "python",
   "pygments_lexer": "ipython3",
   "version": "3.9.12"
  }
 },
 "nbformat": 4,
 "nbformat_minor": 5
}
